{
 "cells": [
  {
   "cell_type": "markdown",
   "metadata": {},
   "source": [
    "### Импорт библиотек"
   ]
  },
  {
   "cell_type": "code",
   "execution_count": 1,
   "metadata": {},
   "outputs": [],
   "source": [
    "from prepare_features import *\n",
    "from download_data import *\n",
    "from train import *\n",
    "from submit_utils import *"
   ]
  },
  {
   "cell_type": "markdown",
   "metadata": {},
   "source": [
    "### Загрузка данных"
   ]
  },
  {
   "cell_type": "code",
   "execution_count": null,
   "metadata": {},
   "outputs": [],
   "source": [
    "download_new_data(INPUT_PATH, INPUT_PATH)\n",
    "check_latest_date()"
   ]
  },
  {
   "cell_type": "markdown",
   "metadata": {},
   "source": [
    "### Первоначальная обработка данных"
   ]
  },
  {
   "cell_type": "code",
   "execution_count": null,
   "metadata": {},
   "outputs": [],
   "source": [
    "convert_timeseries_last_date(INPUT_PATH,FEATURES_PATH)"
   ]
  },
  {
   "cell_type": "code",
   "execution_count": null,
   "metadata": {},
   "outputs": [],
   "source": [
    "convert_timeseries_confirmed(INPUT_PATH, FEATURES_PATH, 'confirmed', False)\n",
    "convert_timeseries_confirmed(INPUT_PATH, FEATURES_PATH, 'deaths', False)"
   ]
  },
  {
   "cell_type": "code",
   "execution_count": null,
   "metadata": {},
   "outputs": [],
   "source": [
    "for i in range(0, DAYS_TO_PREDICT + 1):\n",
    "    create_time_features_confirmed(i, 'confirmed', FEATURES_PATH)\n",
    "    create_time_features_confirmed(i, 'deaths', FEATURES_PATH)"
   ]
  },
  {
   "cell_type": "code",
   "execution_count": null,
   "metadata": {},
   "outputs": [],
   "source": [
    "get_first_case_date('confirmed', INPUT_PATH, FEATURES_PATH)\n",
    "get_first_case_date('deaths', INPUT_PATH, FEATURES_PATH)"
   ]
  },
  {
   "cell_type": "markdown",
   "metadata": {},
   "source": [
    "### Обучение и предсказание"
   ]
  },
  {
   "cell_type": "code",
   "execution_count": null,
   "metadata": {},
   "outputs": [],
   "source": [
    "start_time = time.time()\n",
    "gbm_type = 'CatB'\n",
    "params = get_params()\n",
    "target = params['target']\n",
    "id = params['id']\n",
    "metric = params['metric']\n",
    "limit_date = DAYS_TO_PREDICT\n",
    "\n",
    "all_scores = dict()\n",
    "alldays_preds_train = dict()\n",
    "alldays_preds_test = dict()\n",
    "for type in ['confirmed', 'deaths']:\n",
    "    print('Go for type: {}'.format(type))\n",
    "    alldays_preds_train[type] = []\n",
    "    alldays_preds_test[type] = []\n",
    "    for day in range(1, limit_date+1):\n",
    "        train, test, features = read_input_data(day, type, step_back_days=STEP_BACK)\n",
    "        print('Features: [{}] {}'.format(len(features), features))\n",
    "        print('Test date: {}'.format(sorted(test['date'].unique())))\n",
    "\n",
    "        if 0:\n",
    "            train[features].to_csv(CACHE_PATH + 'train_debug_{}_{}.csv'.format(type, day))\n",
    "            test[features].to_csv(CACHE_PATH + 'test_debug_{}_{}.csv'.format(type, day))\n",
    "\n",
    "        overall_train_predictions, score, model_list, importance = create_catboost_model(train, features, params, day)\n",
    "        prefix = '{}_day_{}_{}_{:.6f}'.format(gbm_type, day, len(model_list), score)\n",
    "        save_in_file((score, model_list, importance, overall_train_predictions), MODELS_PATH + prefix + '.pklz')\n",
    "\n",
    "        all_scores[(type, day)] = score\n",
    "        train['pred'] = overall_train_predictions\n",
    "        train['pred'] = np.maximum(train['pred'], train['case_day_minus_0'])\n",
    "        train[['name1', 'name2', 'date', 'target', 'pred']].to_csv(SUBM_PATH + prefix + '_train.csv', index=False, float_format='%.8f')\n",
    "        train_tmp = decrease_table_for_last_date(train)\n",
    "        alldays_preds_train[type].append(train_tmp[['name1', 'name2', 'date', 'target', 'pred']].copy())\n",
    "\n",
    "        overall_test_predictions = predict_with_catboost_model(test, features, model_list)\n",
    "        test['pred'] = overall_test_predictions\n",
    "\n",
    "        count_less = (test['pred'] < test['case_day_minus_0']).astype(np.int32).sum()\n",
    "        if count_less > 0:\n",
    "            print('Values less than needed for test: {} ({:.4f} %)'.format(count_less, 100 * count_less / len(test)))\n",
    "        test['pred'] = np.maximum(test['pred'], test['case_day_minus_0'])\n",
    "\n",
    "        test['shift_day'] = day\n",
    "        test[['name1', 'name2', 'date', 'pred']].to_csv(SUBM_PATH + prefix + '_test.csv', index=False, float_format='%.8f')\n",
    "        alldays_preds_test[type].append(test[['name1', 'name2', 'date', 'shift_day', 'pred']].copy())\n",
    "\n",
    "    train = pd.concat(alldays_preds_train[type], axis=0)\n",
    "    score = contest_metric(train['target'].values, train['pred'].values)\n",
    "    all_scores[(type, 'full')] = score\n",
    "    print('Total score {} for all days: {:.6f}'.format(type, score))\n",
    "    prefix = '{}_{}_all_days_{}_{:.6f}'.format(gbm_type, type, len(model_list), score)\n",
    "    train.to_csv(SUBM_PATH + '{}_train.csv'.format(prefix), index=False)\n",
    "    test = pd.concat(alldays_preds_test[type], axis=0)\n",
    "    test.to_csv(SUBM_PATH + '{}_test.csv'.format(prefix), index=False)\n",
    "\n",
    "    prefix_2 = '{}_{}_LOG_{}_DIFF_{}_DIV_{}_countries'.format(gbm_type, type, USE_LOG, USE_DIFF, USE_DIV)\n",
    "    train.to_csv(SUBM_PATH + '{}_train.csv'.format(prefix_2), index=False)\n",
    "    test.to_csv(SUBM_PATH + '{}_test.csv'.format(prefix_2), index=False)\n",
    "\n",
    "for type in ['confirmed', 'deaths']:\n",
    "    for day in range(1, limit_date + 1):\n",
    "        print('Type: {} Day: {} Score: {:.6f}'.format(type, day, all_scores[(type, day)]))\n",
    "for type in ['confirmed', 'deaths']:\n",
    "    print('Total score {} for all days: {:.6f}'.format(type, all_scores[(type, 'full')]))\n",
    "\n",
    "print(\"Elapsed time overall: {:.2f} seconds\".format((time.time() - start_time)))"
   ]
  },
  {
   "cell_type": "markdown",
   "metadata": {},
   "source": [
    "### Создание финального предсказания"
   ]
  },
  {
   "cell_type": "code",
   "execution_count": null,
   "metadata": {},
   "outputs": [],
   "source": [
    "subms = [\n",
    "        [SUBM_PATH + 'CATB_confirmed_LOG_1_DIFF_1_DIV_1_countries_test.csv', SUBM_PATH + 'CATB_deaths_LOG_1_DIFF_1_DIV_1_countries_test.csv', 1]\n",
    "]\n",
    "score = 0.0\n",
    "score = get_validation_score(subms)\n",
    "ensemble(subms, score)"
   ]
  }
 ],
 "metadata": {
  "kernelspec": {
   "display_name": "Python 3",
   "language": "python",
   "name": "python3"
  },
  "language_info": {
   "codemirror_mode": {
    "name": "ipython",
    "version": 3
   },
   "file_extension": ".py",
   "mimetype": "text/x-python",
   "name": "python",
   "nbconvert_exporter": "python",
   "pygments_lexer": "ipython3",
   "version": "3.7.9"
  }
 },
 "nbformat": 4,
 "nbformat_minor": 4
}
